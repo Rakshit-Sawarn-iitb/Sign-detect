{
  "nbformat": 4,
  "nbformat_minor": 0,
  "metadata": {
    "colab": {
      "provenance": [],
      "gpuType": "T4",
      "mount_file_id": "1ulVr3cExw70C9AInMb9BNtcvlG0mJv5B",
      "authorship_tag": "ABX9TyP7XWq/XJuatNefdQ40tg88",
      "include_colab_link": true
    },
    "kernelspec": {
      "name": "python3",
      "display_name": "Python 3"
    },
    "language_info": {
      "name": "python"
    },
    "accelerator": "GPU"
  },
  "cells": [
    {
      "cell_type": "markdown",
      "metadata": {
        "id": "view-in-github",
        "colab_type": "text"
      },
      "source": [
        "<a href=\"https://colab.research.google.com/github/Rakshit-Sawarn-iitb/Sign-detect/blob/main/SignCNN.ipynb\" target=\"_parent\"><img src=\"https://colab.research.google.com/assets/colab-badge.svg\" alt=\"Open In Colab\"/></a>"
      ]
    },
    {
      "cell_type": "code",
      "source": [
        "import numpy as np\n",
        "import torch\n",
        "from torch.utils.data import Dataset, DataLoader\n",
        "from sklearn.model_selection import train_test_split\n",
        "import os\n",
        "import cv2\n",
        "from google.colab import drive\n",
        "\n",
        "# Mount Google Drive\n",
        "drive.mount('/content/drive')\n",
        "\n",
        "# Define the custom preprocessing functions\n",
        "def grayscale(image):\n",
        "    gray_image = cv2.cvtColor(image, cv2.COLOR_BGR2GRAY)\n",
        "    return gray_image\n",
        "\n",
        "def denoising(gray_image):\n",
        "    denoised_image = cv2.fastNlMeansDenoising(gray_image, None, 10, 7, 21)\n",
        "    return denoised_image\n",
        "\n",
        "def thresholding(denoised_image):\n",
        "    ret, thresholded_image = cv2.threshold(denoised_image, 127, 255, cv2.THRESH_BINARY)\n",
        "    return thresholded_image\n",
        "\n",
        "def resize(thresholded_image):\n",
        "    resized_image = cv2.resize(thresholded_image, (256, 256))\n",
        "    return resized_image\n",
        "\n",
        "def preprocess(image):\n",
        "    gray_image = grayscale(image)\n",
        "    denoised_image = denoising(gray_image)\n",
        "    thresholded_image = thresholding(denoised_image)\n",
        "    resized_image = resize(thresholded_image)\n",
        "    return resized_image\n",
        "\n",
        "def load_images(file_paths, label):\n",
        "    images = []\n",
        "    labels = []\n",
        "    for file in file_paths:\n",
        "        img = cv2.imread(file)\n",
        "        if img is not None:\n",
        "            img = preprocess(img)\n",
        "            images.append(img)\n",
        "            labels.append(label)\n",
        "    return np.array(images, dtype=np.float32), np.array(labels, dtype=np.int32)\n",
        "\n",
        "# Specify the directories containing the images\n",
        "org_dir = '/content/drive/My Drive/full_org'\n",
        "forg_dir = '/content/drive/My Drive/full_forg'\n",
        "\n",
        "# List the image files\n",
        "original_files = [os.path.join(org_dir, f) for f in os.listdir(org_dir) if f.endswith('.png')]\n",
        "forged_files = [os.path.join(forg_dir, f) for f in os.listdir(forg_dir) if f.endswith('.png')]\n",
        "\n",
        "print(f\"Original signatures: {len(original_files)}\")\n",
        "print(f\"Forged signatures: {len(forged_files)}\")\n",
        "\n",
        "# Load original and forged images\n",
        "original_images, original_labels = load_images(original_files, 0)  # Label 0 for original\n",
        "forged_images, forged_labels = load_images(forged_files, 1)  # Label 1 for forged\n",
        "\n",
        "# Combine and split the dataset\n",
        "X = np.concatenate((original_images, forged_images), axis=0)\n",
        "y = np.concatenate((original_labels, forged_labels), axis=0)\n",
        "\n",
        "# Normalize the images\n",
        "X = X / 255.0\n",
        "X = X.reshape(-1, 256, 256, 1)  # Reshape for the model\n",
        "\n",
        "# Split into training and test sets\n",
        "X_train, X_test, y_train, y_test = train_test_split(X, y, test_size=0.2, random_state=42)\n",
        "\n",
        "# Save the numpy arrays for later use\n",
        "np.save('/content/X_train.npy', X_train)\n",
        "np.save('/content/X_test.npy', X_test)\n",
        "np.save('/content/y_train.npy', y_train)\n",
        "np.save('/content/y_test.npy', y_test)\n",
        "\n",
        "# Load the numpy arrays\n",
        "X_train = np.load('/content/X_train.npy')\n",
        "X_test = np.load('/content/X_test.npy')\n",
        "y_train = np.load('/content/y_train.npy')\n",
        "y_test = np.load('/content/y_test.npy')\n",
        "\n",
        "class SignatureDataset(Dataset):\n",
        "    def __init__(self, images, labels):\n",
        "        self.images = images\n",
        "        self.labels = labels\n",
        "\n",
        "    def __len__(self):\n",
        "        return len(self.labels)\n",
        "\n",
        "    def __getitem__(self, idx):\n",
        "        image = self.images[idx]\n",
        "        label = self.labels[idx]\n",
        "        image = torch.tensor(image, dtype=torch.float32).permute(2, 0, 1)  # Change shape to [channels, height, width]\n",
        "        label = torch.tensor(label, dtype=torch.long)\n",
        "        return image, label\n",
        "\n",
        "# Create dataset objects\n",
        "train_dataset = SignatureDataset(X_train, y_train)\n",
        "test_dataset = SignatureDataset(X_test, y_test)\n",
        "\n",
        "# Create data loaders\n",
        "train_dataloader = DataLoader(train_dataset, batch_size=32, shuffle=True)\n",
        "test_dataloader = DataLoader(test_dataset, batch_size=32, shuffle=False)\n"
      ],
      "metadata": {
        "colab": {
          "base_uri": "https://localhost:8080/"
        },
        "id": "nbna5ebX4RsX",
        "outputId": "76279b3f-2047-42ed-e06e-6b3f60b10fc5"
      },
      "execution_count": 17,
      "outputs": [
        {
          "output_type": "stream",
          "name": "stdout",
          "text": [
            "Drive already mounted at /content/drive; to attempt to forcibly remount, call drive.mount(\"/content/drive\", force_remount=True).\n",
            "Original signatures: 1327\n",
            "Forged signatures: 1320\n"
          ]
        }
      ]
    },
    {
      "cell_type": "code",
      "source": [
        "import torch\n",
        "import torch.nn as nn\n",
        "import torch.optim as optim\n",
        "import torch.nn.functional as F\n",
        "from torch.utils.data import DataLoader, Dataset\n",
        "\n",
        "# Define the CNN model\n",
        "class CNN(nn.Module):\n",
        "    def __init__(self):\n",
        "        super(CNN, self).__init__()\n",
        "        self.conv1 = nn.Conv2d(1, 32, kernel_size=3, padding=1)\n",
        "        self.conv2 = nn.Conv2d(32, 64, kernel_size=3, padding=1)\n",
        "        self.conv3 = nn.Conv2d(64, 128, kernel_size=3, padding=1)\n",
        "        self.pool = nn.MaxPool2d(kernel_size=2, stride=2, padding=0)\n",
        "        self.fc1 = nn.Linear(128 * 32 * 32, 512)\n",
        "        self.fc2 = nn.Linear(512, 1)\n",
        "        self.dropout = nn.Dropout(0.5)\n",
        "\n",
        "    def forward(self, x):\n",
        "        x = self.pool(F.relu(self.conv1(x)))\n",
        "        x = self.pool(F.relu(self.conv2(x)))\n",
        "        x = self.pool(F.relu(self.conv3(x)))\n",
        "        x = x.view(-1, 128 * 32 * 32)\n",
        "        x = F.relu(self.fc1(x))\n",
        "        x = self.dropout(x)\n",
        "        x = torch.sigmoid(self.fc2(x))\n",
        "        return x\n",
        "\n",
        "model = CNN()\n",
        "criterion = nn.BCELoss()\n",
        "optimizer = optim.Adam(model.parameters(), lr=0.001)\n",
        "\n",
        "# Training the model\n",
        "num_epochs = 10\n",
        "for epoch in range(num_epochs):\n",
        "    model.train()\n",
        "    running_loss = 0.0\n",
        "    for images, labels in train_dataloader:\n",
        "        labels = labels.float().view(-1, 1)  # Reshape labels for binary classification\n",
        "        optimizer.zero_grad()\n",
        "        outputs = model(images)\n",
        "        loss = criterion(outputs, labels)\n",
        "        loss.backward()\n",
        "        optimizer.step()\n",
        "        running_loss += loss.item()\n",
        "\n",
        "    print(f'Epoch [{epoch+1}/{num_epochs}], Loss: {running_loss/len(train_dataloader):.4f}')\n",
        "\n",
        "# Evaluate the model\n",
        "model.eval()\n",
        "correct = 0\n",
        "total = 0\n",
        "with torch.no_grad():\n",
        "    for images, labels in test_dataloader:\n",
        "        labels = labels.float().view(-1, 1)\n",
        "        outputs = model(images)\n",
        "        predicted = (outputs > 0.5).float()\n",
        "        total += labels.size(0)\n",
        "        correct += (predicted == labels).sum().item()\n",
        "\n",
        "print(f'Test Accuracy: {100 * correct / total:.2f}%')\n"
      ],
      "metadata": {
        "colab": {
          "base_uri": "https://localhost:8080/"
        },
        "id": "9-cs7pW_4Tjc",
        "outputId": "02555beb-8847-484f-c932-a3b1e2694a46"
      },
      "execution_count": 18,
      "outputs": [
        {
          "output_type": "stream",
          "name": "stdout",
          "text": [
            "Epoch [1/10], Loss: 0.6895\n",
            "Epoch [2/10], Loss: 0.5321\n",
            "Epoch [3/10], Loss: 0.4362\n",
            "Epoch [4/10], Loss: 0.3298\n",
            "Epoch [5/10], Loss: 0.2601\n",
            "Epoch [6/10], Loss: 0.1949\n",
            "Epoch [7/10], Loss: 0.1732\n",
            "Epoch [8/10], Loss: 0.1185\n",
            "Epoch [9/10], Loss: 0.0922\n",
            "Epoch [10/10], Loss: 0.0778\n",
            "Test Accuracy: 86.42%\n"
          ]
        }
      ]
    },
    {
      "cell_type": "code",
      "source": [
        "import matplotlib.pyplot as plt\n",
        "\n",
        "# Plot training & validation loss values\n",
        "plt.plot([running_loss / len(train_dataloader) for _ in range(num_epochs)])\n",
        "plt.title('Model loss')\n",
        "plt.ylabel('Loss')\n",
        "plt.xlabel('Epoch')\n",
        "plt.legend(['Train'], loc='upper left')\n",
        "plt.show()\n"
      ],
      "metadata": {
        "colab": {
          "base_uri": "https://localhost:8080/",
          "height": 472
        },
        "id": "I7ynjD0-4dfr",
        "outputId": "45e66c77-f8d6-4901-f8d3-5f296eb8ce23"
      },
      "execution_count": 19,
      "outputs": [
        {
          "output_type": "display_data",
          "data": {
            "text/plain": [
              "<Figure size 640x480 with 1 Axes>"
            ],
            "image/png": "[encoded data removed]"
          },
          "metadata": {}
        }
      ]
    },
    {
      "cell_type": "code",
      "source": [
        "path = '/content/drive/MyDrive/your_model.pth'\n",
        "\n",
        "# Save the state dictionary of the model\n",
        "torch.save(model.state_dict(), path)\n",
        "\n",
        "print(f\"Model saved to {path}\")"
      ],
      "metadata": {
        "colab": {
          "base_uri": "https://localhost:8080/"
        },
        "id": "6ytt06PVLk45",
        "outputId": "b8282593-bfbe-4006-8c58-49174d88db83"
      },
      "execution_count": 20,
      "outputs": [
        {
          "output_type": "stream",
          "name": "stdout",
          "text": [
            "Model saved to /content/drive/MyDrive/your_model.pth\n"
          ]
        }
      ]
    },
    {
      "cell_type": "code",
      "source": [
        "model.eval()\n",
        "correct = 0\n",
        "total = 0\n",
        "with torch.no_grad():\n",
        "    for images, labels in test_dataloader:\n",
        "        labels = labels.float().view(-1, 1)\n",
        "        outputs = model(images)\n",
        "        predicted = (outputs > 0.5).float()\n",
        "        total += labels.size(0)\n",
        "        correct += (predicted == labels).sum().item()\n",
        "\n",
        "print(f'Test Accuracy: {100 * correct / total:.2f}%')"
      ],
      "metadata": {
        "colab": {
          "base_uri": "https://localhost:8080/"
        },
        "id": "aYufI_CGL6J_",
        "outputId": "9eefc69e-af3e-4e46-9c2f-2d1ed30677ef"
      },
      "execution_count": 21,
      "outputs": [
        {
          "output_type": "stream",
          "name": "stdout",
          "text": [
            "Test Accuracy: 86.42%\n"
          ]
        }
      ]
    },
    {
      "cell_type": "code",
      "source": [
        "from PIL import Image\n",
        "import cv2\n",
        "import numpy as np\n",
        "import random\n",
        "from torchvision.transforms import functional as TF\n",
        "\n",
        "def preprocess(image):\n",
        "    gray_image = cv2.cvtColor(image, cv2.COLOR_BGR2GRAY)\n",
        "    denoised_image = cv2.fastNlMeansDenoising(gray_image, None, 10, 7, 21)\n",
        "    ret, thresholded_image = cv2.threshold(denoised_image, 127, 255, cv2.THRESH_BINARY)\n",
        "    resized_image = cv2.resize(thresholded_image, (256, 256))\n",
        "    return resized_image\n",
        "\n",
        "def augment_image(image):\n",
        "    image = Image.fromarray(image)\n",
        "    augmented_images = []\n",
        "    for _ in range(20):  # Create 20 augmentations\n",
        "        aug_img = TF.adjust_brightness(image, random.uniform(0.7, 1.3))\n",
        "        aug_img = TF.adjust_contrast(aug_img, random.uniform(0.7, 1.3))\n",
        "        if random.random() > 0.5:\n",
        "            aug_img = TF.hflip(aug_img)\n",
        "        if random.random() > 0.5:\n",
        "            aug_img = TF.vflip(aug_img)\n",
        "        augmented_images.append(np.array(aug_img))\n",
        "    return augmented_images\n",
        "\n",
        "# Load your new signature\n",
        "new_signature_path = '/content/drive/MyDrive/original.png'\n",
        "new_signature = cv2.imread(new_signature_path)\n",
        "preprocessed_signature = preprocess(new_signature)\n",
        "augmented_signatures = augment_image(preprocessed_signature)\n",
        "\n",
        "# Create a dataset for fine-tuning\n",
        "class FineTuneDataset(Dataset):\n",
        "    def __init__(self, images, label):\n",
        "        self.images = images\n",
        "        self.label = label\n",
        "\n",
        "    def __len__(self):\n",
        "        return len(self.images)\n",
        "\n",
        "    def __getitem__(self, idx):\n",
        "        image = self.images[idx]\n",
        "        image = torch.tensor(image, dtype=torch.float32).unsqueeze(0) / 255.0  # Normalize and add channel dimension\n",
        "        label = torch.tensor(self.label, dtype=torch.float32).unsqueeze(0)\n",
        "        return image, label\n",
        "\n",
        "fine_tune_dataset = FineTuneDataset(augmented_signatures, 0)  # Label 0 for your signature\n",
        "fine_tune_dataloader = DataLoader(fine_tune_dataset, batch_size=4, shuffle=True)\n"
      ],
      "metadata": {
        "id": "Ejk-Ug6pPvJR"
      },
      "execution_count": 22,
      "outputs": []
    },
    {
      "cell_type": "code",
      "source": [
        "# Fine-tune the model\n",
        "model = CNN()\n",
        "model.load_state_dict(torch.load('/content/drive/MyDrive/your_model.pth'))\n",
        "model.eval()\n",
        "criterion = nn.BCELoss()\n",
        "optimizer = optim.Adam(model.parameters(), lr=0.0001)\n",
        "\n",
        "num_finetune_epochs = 5\n",
        "model.train()\n",
        "for epoch in range(num_finetune_epochs):\n",
        "    running_loss = 0.0\n",
        "    for images, labels in fine_tune_dataloader:\n",
        "        optimizer.zero_grad()\n",
        "        outputs = model(images)\n",
        "        loss = criterion(outputs, labels)\n",
        "        loss.backward()\n",
        "        optimizer.step()\n",
        "        running_loss += loss.item()\n",
        "    print(f'Fine-tune Epoch [{epoch+1}/{num_finetune_epochs}], Loss: {running_loss/len(fine_tune_dataloader):.4f}')\n",
        "\n",
        "# Save the fine-tuned model\n",
        "\n"
      ],
      "metadata": {
        "colab": {
          "base_uri": "https://localhost:8080/"
        },
        "id": "1iKY-_3eQGAD",
        "outputId": "59f4ba89-342c-4212-ddf4-e6f45c248eb8"
      },
      "execution_count": 23,
      "outputs": [
        {
          "output_type": "stream",
          "name": "stdout",
          "text": [
            "Fine-tune Epoch [1/5], Loss: 1.6779\n",
            "Fine-tune Epoch [2/5], Loss: 0.9022\n",
            "Fine-tune Epoch [3/5], Loss: 0.4011\n",
            "Fine-tune Epoch [4/5], Loss: 0.2446\n",
            "Fine-tune Epoch [5/5], Loss: 0.0866\n"
          ]
        }
      ]
    },
    {
      "cell_type": "code",
      "source": [
        "torch.save(model.state_dict(), '/content/drive/MyDrive/fine_model.pth')"
      ],
      "metadata": {
        "id": "wy0bUFYBSloL"
      },
      "execution_count": 24,
      "outputs": []
    },
    {
      "cell_type": "code",
      "source": [
        "# Load the fine-tuned model\n",
        "model = CNN()\n",
        "model.load_state_dict(torch.load('/content/drive/MyDrive/fine_model.pth'))\n",
        "model.eval()\n",
        "\n",
        "def classify_signature(image_path):\n",
        "    img = cv2.imread(image_path)\n",
        "    if img is None:\n",
        "        raise ValueError(\"Image not found or cannot be opened.\")\n",
        "    img = preprocess(img)\n",
        "    img = img / 255.0  # Normalize\n",
        "    img = torch.tensor(img, dtype=torch.float32).unsqueeze(0).unsqueeze(0)  # Reshape to [1, 1, 256, 256]\n",
        "    with torch.no_grad():\n",
        "        output = model(img)\n",
        "        print(output)\n",
        "        predicted = (output > 0.1).float().item()\n",
        "        if predicted == 0:\n",
        "            return \"Signature is not yours.\"\n",
        "        else:\n",
        "            return \"Signature is yours.\"\n",
        "\n",
        "# Test the function with a new signature\n",
        "new_signature_path = '/content/drive/MyDrive/forged.png'\n",
        "result = classify_signature(new_signature_path)\n",
        "print(result)\n"
      ],
      "metadata": {
        "colab": {
          "base_uri": "https://localhost:8080/"
        },
        "id": "dFY2Qqd0QKO7",
        "outputId": "1059e3a8-20b0-4904-998d-d026fbdf88cd"
      },
      "execution_count": 33,
      "outputs": [
        {
          "output_type": "stream",
          "name": "stdout",
          "text": [
            "tensor([[0.0007]])\n",
            "Signature is not yours.\n"
          ]
        }
      ]
    }
  ]
}